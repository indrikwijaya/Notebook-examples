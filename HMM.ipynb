{
 "cells": [
  {
   "cell_type": "code",
   "execution_count": 1,
   "metadata": {
    "collapsed": true
   },
   "outputs": [],
   "source": [
    "#Viterbi algorithm example\n",
    "obs = ('normal', 'cold', 'dizzy')\n",
    "states = ('Healthy', 'Fever')\n",
    "start_p = {'Healthy': 0.6, 'Fever':0.4}\n",
    "trans_p = {\n",
    "    'Healthy': {'Healthy':0.7, 'Fever':0.3},\n",
    "    'Fever' : {'Healthy':0.4, 'Fever':0.6}\n",
    "}\n",
    "emit_p = {\n",
    "    'Healthy': {'normal':0.5, 'cold': 0.4, 'dizzy':0.1},\n",
    "    'Fever':{'normal':0.1, 'cold':0.3, 'dizzy':0.6}\n",
    "}"
   ]
  },
  {
   "cell_type": "code",
   "execution_count": 3,
   "metadata": {},
   "outputs": [
    {
     "data": {
      "text/plain": [
       "'\\nstart_probability = doctors belief about which state the HMM is in \\n                    when the patient first visits (all he knows is that\\n                    the patient tends to be healthy)\\nParticular prob distn used here isnt the eqlbm one\\ntransition_probability = change of the halth condition in the underlying MC\\nemission_probability = how likely the patient is to feel on each day\\n'"
      ]
     },
     "execution_count": 3,
     "metadata": {},
     "output_type": "execute_result"
    }
   ],
   "source": [
    "'''\n",
    "start_probability = doctors belief about which state the HMM is in \n",
    "                    when the patient first visits (all he knows is that\n",
    "                    the patient tends to be healthy)\n",
    "Particular prob distn used here isnt the eqlbm one\n",
    "transition_probability = change of the halth condition in the underlying MC\n",
    "emission_probability = how likely the patient is to feel on each day\n",
    "'''"
   ]
  },
  {
   "cell_type": "code",
   "execution_count": 4,
   "metadata": {},
   "outputs": [
    {
     "data": {
      "text/plain": [
       "'\\nThe patient visits three days in a row and the doctror discovers that \\non the 1st day he feels normal,\\non the 2nd day he feels cold,\\non the 3rd day he feels dizzy.\\nthe doctor has a question: what is the most likely sequence of health\\nconditions of the patient that would explain these observations?'"
      ]
     },
     "execution_count": 4,
     "metadata": {},
     "output_type": "execute_result"
    }
   ],
   "source": [
    "'''\n",
    "The patient visits three days in a row and the doctror discovers that \n",
    "on the 1st day he feels normal,\n",
    "on the 2nd day he feels cold,\n",
    "on the 3rd day he feels dizzy.\n",
    "the doctor has a question: what is the most likely sequence of health\n",
    "conditions of the patient that would explain these observations?'''"
   ]
  },
  {
   "cell_type": "code",
   "execution_count": 10,
   "metadata": {},
   "outputs": [],
   "source": [
    "def viterbi(obs, states, start_p, trans_p, emit_p):\n",
    "    V=[{}]\n",
    "    for st in states:\n",
    "        V[0][st] = {\"prob\":start_p[st]*emit_p[st][obs[0]], \"prev\":None}\n",
    "    #Run viterbi when t>0\n",
    "    for t in range(1, len(obs)):\n",
    "        V.append({})\n",
    "        for st in states:\n",
    "            max_tr_prob = max(V[t-1][prev_st][\"prob\"]*trans_p[prev_st][st] for prev_st in states)\n",
    "            for prev_st in states:\n",
    "                if V[t-1][prev_st][\"prob\"]*trans_p[prev_st][st]==max_tr_prob:\n",
    "                    max_prob = max_tr_prob*emit_p[st][obs[t]]\n",
    "                    V[t][st] = {\"prob\":max_prob, \"prev\":prev_st}\n",
    "                    break\n",
    "    for line in dptable(V):\n",
    "        print(line)\n",
    "    opt = []\n",
    "    #The highest probability\n",
    "    max_prob = max(value['prob'] for value in V[-1].values())\n",
    "    previous = None\n",
    "    #Get most probable state and its backtrack\n",
    "    for st,data in V[-1].items():\n",
    "        if data[\"prob\"]== max_prob:\n",
    "            opt.append(st)\n",
    "            previous = st\n",
    "            break\n",
    "    #Follow the backtrack till the 1st observation\n",
    "    for t in range(len(V)-2,-1,-1):\n",
    "        opt.insert(0,V[t+1][previous]['prev'])\n",
    "        previous = V[t+1][previous]['prev']\n",
    "\n",
    "    print(\"The steps of states are \" + ' '.join(opt) + ' with highest probability of %s' % max_prob)\n",
    "\n",
    "def dptable(V):\n",
    "    #Print a table of steps from dictionary\n",
    "    yield \" \".join((\"%12d\" % i) for i in range(len(V)))\n",
    "    for state in V[0]:\n",
    "        yield \"%.7s: \" % state + \" \".join(\"%.7s\" % (\"%f\" % v[state][\"prob\"]) for v in V)"
   ]
  },
  {
   "cell_type": "code",
   "execution_count": 11,
   "metadata": {},
   "outputs": [
    {
     "name": "stdout",
     "output_type": "stream",
     "text": [
      "           0            1            2\n",
      "Healthy: 0.30000 0.08400 0.00588\n",
      "Fever: 0.04000 0.02700 0.01512\n",
      "The steps of states are Healthy Healthy Fever with highest probability of 0.01512\n"
     ]
    }
   ],
   "source": [
    "viterbi(obs,\n",
    "       states,\n",
    "       start_p,\n",
    "       trans_p,\n",
    "       emit_p)"
   ]
  },
  {
   "cell_type": "code",
   "execution_count": 12,
   "metadata": {
    "collapsed": true
   },
   "outputs": [],
   "source": [
    "#Forward-backward algo example\n",
    "obs = ('normal', 'cold', 'dizzy')\n",
    "\n",
    "states = ('Healthy', 'Fever')\n",
    "end_state = 'E'\n",
    "\n",
    "start_p = {'Healthy': 0.6, 'Fever':0.4}\n",
    "trans_p = {\n",
    "    'Healthy': {'Healthy':0.69, 'Fever':0.3, 'E':0.01},\n",
    "    'Fever' : {'Healthy':0.4, 'Fever':0.59, 'E':0.01}\n",
    "}\n",
    "emit_p = {\n",
    "    'Healthy': {'normal':0.5, 'cold': 0.4, 'dizzy':0.1},\n",
    "    'Fever':{'normal':0.1, 'cold':0.3, 'dizzy':0.6}\n",
    "}"
   ]
  },
  {
   "cell_type": "code",
   "execution_count": 22,
   "metadata": {
    "collapsed": true
   },
   "outputs": [],
   "source": [
    "def fwd_bkw(obs, states, start_p, trans_p, emit_p, end_st):\n",
    "    #forward part of the algo\n",
    "    fwd = []\n",
    "    f_prev= {}\n",
    "    for i, obs_i in enumerate(obs):\n",
    "        f_curr ={}\n",
    "        for st in states:\n",
    "            if i == 0:\n",
    "                #base case for the forward part\n",
    "                prev_f_sum = start_p[st]\n",
    "            else:\n",
    "                prev_f_sum = sum(f_prev[k]*trans_p[k][st] for k in states)\n",
    "            f_curr[st] = emit_p[st][obs_i]*prev_f_sum\n",
    "        fwd.append(f_curr)\n",
    "        f_prev = f_curr\n",
    "    p_fwd = sum(f_curr[k]*trans_p[k][end_st] for k in states)\n",
    "    \n",
    "    #backward part of the algo\n",
    "    bkw = []\n",
    "    b_prev = {}\n",
    "    for i, obs_i_plus in enumerate(reversed(obs[1:]+(None,))):\n",
    "        b_curr = {}\n",
    "        for st in states:\n",
    "            if i == 0:\n",
    "                #base case for backward part\n",
    "                b_curr[st] = trans_p[st][end_st]\n",
    "            else:\n",
    "                b_curr[st] = sum(trans_p[st][l]*emit_p[l][obs_i_plus]*b_prev[l] for l in states)\n",
    "            \n",
    "        bkw.insert(0, b_curr)\n",
    "        b_prev = b_curr\n",
    "    \n",
    "    p_bkw = sum(start_p[l]*emit_p[l][obs[0]]*b_curr[l] for l in states)\n",
    "    \n",
    "    #merging the two parts\n",
    "    posterior = []\n",
    "    for i in range(len(obs)):\n",
    "        posterior.append({st:fwd[i][st]*bkw[i][st]/p_fwd for st in states})\n",
    "    \n",
    "    assert p_fwd == p_bkw\n",
    "    \n",
    "    return fwd, bkw, posterior"
   ]
  },
  {
   "cell_type": "code",
   "execution_count": 23,
   "metadata": {
    "collapsed": true
   },
   "outputs": [],
   "source": [
    "def example():\n",
    "    return fwd_bkw(obs,\n",
    "                  states,\n",
    "                  start_p,\n",
    "                  trans_p,\n",
    "                  emit_p,\n",
    "                  end_state)"
   ]
  },
  {
   "cell_type": "code",
   "execution_count": 24,
   "metadata": {},
   "outputs": [
    {
     "name": "stdout",
     "output_type": "stream",
     "text": [
      "{'Healthy': 0.3, 'Fever': 0.04000000000000001} {'Healthy': 0.0892, 'Fever': 0.03408} {'Healthy': 0.007518, 'Fever': 0.028120319999999997}\n",
      "{'Healthy': 0.0010418399999999998, 'Fever': 0.00109578} {'Healthy': 0.00249, 'Fever': 0.00394} {'Healthy': 0.01, 'Fever': 0.01}\n",
      "{'Healthy': 0.8770110375573259, 'Fever': 0.1229889624426741} {'Healthy': 0.623228030950954, 'Fever': 0.3767719690490461} {'Healthy': 0.2109527048413057, 'Fever': 0.7890472951586943}\n"
     ]
    }
   ],
   "source": [
    "for line in example():\n",
    "    print(*line)"
   ]
  },
  {
   "cell_type": "code",
   "execution_count": null,
   "metadata": {
    "collapsed": true
   },
   "outputs": [],
   "source": []
  }
 ],
 "metadata": {
  "kernelspec": {
   "display_name": "Python 3",
   "language": "python",
   "name": "python3"
  },
  "language_info": {
   "codemirror_mode": {
    "name": "ipython",
    "version": 3
   },
   "file_extension": ".py",
   "mimetype": "text/x-python",
   "name": "python",
   "nbconvert_exporter": "python",
   "pygments_lexer": "ipython3",
   "version": "3.6.1"
  }
 },
 "nbformat": 4,
 "nbformat_minor": 2
}
